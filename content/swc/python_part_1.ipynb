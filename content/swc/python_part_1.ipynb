{
 "cells": [
  {
   "cell_type": "markdown",
   "id": "0b0940ba",
   "metadata": {},
   "source": [
    "# Python part 1\n",
    "\n",
    "This notebooks looks for the inflammation data files in the subfolder `/data`"
   ]
  },
  {
   "cell_type": "markdown",
   "id": "ed73d733",
   "metadata": {},
   "source": [
    "# 1. Python fundamentals\n",
    "\n",
    "## 1.1 Variables"
   ]
  },
  {
   "cell_type": "code",
   "execution_count": 1,
   "id": "d91e025d",
   "metadata": {},
   "outputs": [
    {
     "data": {
      "text/plain": [
       "23"
      ]
     },
     "execution_count": 1,
     "metadata": {},
     "output_type": "execute_result"
    }
   ],
   "source": [
    "3 + 5 * 4"
   ]
  },
  {
   "cell_type": "code",
   "execution_count": 2,
   "id": "91dbed31",
   "metadata": {},
   "outputs": [],
   "source": [
    "weight_kg = 60 # integer"
   ]
  },
  {
   "cell_type": "markdown",
   "id": "6e98b284",
   "metadata": {},
   "source": [
    "From now on, whenever we use weight_kg, Python will substitute the value we assigned to it. In layman’s terms, a variable is a name for a value.\n",
    "\n",
    "In Python, variable names:\n",
    "\n",
    "* can include letters, digits, and underscores\n",
    "* cannot start with a digit\n",
    "* are case sensitive.\n",
    "\n",
    "This means that, for example:\n",
    "\n",
    "* `weight0` is a valid variable name, whereas `0weight` is not\n",
    "* `weight` and `Weight` are different variables"
   ]
  },
  {
   "cell_type": "markdown",
   "id": "ad0b1dd8",
   "metadata": {},
   "source": [
    "### Types of data"
   ]
  },
  {
   "cell_type": "code",
   "execution_count": 3,
   "id": "462088c5",
   "metadata": {},
   "outputs": [],
   "source": [
    "weight_kg = 60.3 # floating point"
   ]
  },
  {
   "cell_type": "code",
   "execution_count": 4,
   "id": "dc85d30e",
   "metadata": {},
   "outputs": [],
   "source": [
    "patient_id = '001' # string"
   ]
  },
  {
   "cell_type": "markdown",
   "id": "3b8a959d",
   "metadata": {},
   "source": [
    "### Using variables in Python"
   ]
  },
  {
   "cell_type": "code",
   "execution_count": 5,
   "id": "20863c25",
   "metadata": {},
   "outputs": [],
   "source": [
    "weight_lb = 2.2 * weight_kg"
   ]
  },
  {
   "cell_type": "code",
   "execution_count": 6,
   "id": "0612f7bf",
   "metadata": {},
   "outputs": [],
   "source": [
    "patient_id = 'inflam_' + patient_id"
   ]
  },
  {
   "cell_type": "markdown",
   "id": "5a8c2515",
   "metadata": {},
   "source": [
    "### Build-in Python functions\n",
    "\n",
    "To carry out common tasks with data and variables in Python, the language provides us with several built-in functions. To display information to the screen, we use the print function:"
   ]
  },
  {
   "cell_type": "code",
   "execution_count": 7,
   "id": "a4af832c",
   "metadata": {},
   "outputs": [
    {
     "name": "stdout",
     "output_type": "stream",
     "text": [
      "132.66\n",
      "inflam_001\n"
     ]
    }
   ],
   "source": [
    "print(weight_lb)\n",
    "print(patient_id)"
   ]
  },
  {
   "cell_type": "markdown",
   "id": "45aec3d8",
   "metadata": {},
   "source": [
    "We can also call a function inside of another function call. For example, Python has a built-in function called type that tells you a value’s data type:"
   ]
  },
  {
   "cell_type": "code",
   "execution_count": 8,
   "id": "2b97ab03",
   "metadata": {},
   "outputs": [
    {
     "name": "stdout",
     "output_type": "stream",
     "text": [
      "<class 'float'>\n",
      "<class 'str'>\n"
     ]
    }
   ],
   "source": [
    "# Determine the variable type\n",
    "print(type(weight_lb))\n",
    "print(type(patient_id))"
   ]
  },
  {
   "cell_type": "code",
   "execution_count": 9,
   "id": "5763a283",
   "metadata": {},
   "outputs": [
    {
     "name": "stdout",
     "output_type": "stream",
     "text": [
      "<class 'float'>\n"
     ]
    }
   ],
   "source": [
    "# Automatic type determination\n",
    "x = 4 / 3 \n",
    "print(type(x))"
   ]
  },
  {
   "cell_type": "markdown",
   "id": "22a1734c",
   "metadata": {},
   "source": [
    "## 1.2 Python lists\n",
    "\n",
    "List: storing multiple valies inside a variable"
   ]
  },
  {
   "cell_type": "code",
   "execution_count": 10,
   "id": "d5c1c036",
   "metadata": {},
   "outputs": [
    {
     "name": "stdout",
     "output_type": "stream",
     "text": [
      "odds are: [1, 3, 5, 7]\n"
     ]
    }
   ],
   "source": [
    "odds = [1, 3, 5, 7]\n",
    "print('odds are:', odds)"
   ]
  },
  {
   "cell_type": "code",
   "execution_count": 11,
   "id": "1c718f61",
   "metadata": {},
   "outputs": [
    {
     "name": "stdout",
     "output_type": "stream",
     "text": [
      "first element 1\n",
      "last element 7\n"
     ]
    }
   ],
   "source": [
    "# Accessing elements through slicing\n",
    "print('first element', odds[0]) # Python start counting at 0!\n",
    "print('last element', odds[3])"
   ]
  },
  {
   "cell_type": "code",
   "execution_count": 12,
   "id": "2d44f13f",
   "metadata": {},
   "outputs": [
    {
     "name": "stdout",
     "output_type": "stream",
     "text": [
      "['Curie', 'Darwing', 'Turing']\n"
     ]
    }
   ],
   "source": [
    "# Lists can store different data types\n",
    "names = ['Curie', 'Darwing', 'Turing']\n",
    "print(names)"
   ]
  },
  {
   "cell_type": "code",
   "execution_count": 13,
   "id": "e9ee4b6b",
   "metadata": {},
   "outputs": [
    {
     "name": "stdout",
     "output_type": "stream",
     "text": [
      "['Curie', 'Darwin', 'Turing']\n"
     ]
    }
   ],
   "source": [
    "# Assign new element\n",
    "names[1] = 'Darwin'\n",
    "print(names)"
   ]
  },
  {
   "cell_type": "markdown",
   "id": "0a0020d1",
   "metadata": {},
   "source": [
    "### Careful with mutable data"
   ]
  },
  {
   "cell_type": "code",
   "execution_count": 14,
   "id": "135546d2",
   "metadata": {},
   "outputs": [
    {
     "name": "stdout",
     "output_type": "stream",
     "text": [
      "my salsa ['hot peppers', 'onions', 'cilantro', 'tomatoes']\n",
      "salsa ['hot peppers', 'onions', 'cilantro', 'tomatoes']\n"
     ]
    }
   ],
   "source": [
    "salsa = ['peppers', 'onions', 'cilantro', 'tomatoes']\n",
    "my_salsa = salsa\n",
    "\n",
    "# Let's change my recipe\n",
    "my_salsa[0] = 'hot peppers'\n",
    "print('my salsa', my_salsa)\n",
    "print('salsa', salsa)"
   ]
  },
  {
   "cell_type": "code",
   "execution_count": 15,
   "id": "626a9479",
   "metadata": {},
   "outputs": [
    {
     "name": "stdout",
     "output_type": "stream",
     "text": [
      "my salsa ['hot peppers', 'onions', 'basil', 'tomatoes']\n",
      "salsa ['hot peppers', 'onions', 'cilantro', 'tomatoes']\n"
     ]
    }
   ],
   "source": [
    "my_salsa = list(salsa) # makes a copy\n",
    "my_salsa[2] = 'basil'\n",
    "print('my salsa', my_salsa)\n",
    "print('salsa', salsa)"
   ]
  },
  {
   "cell_type": "markdown",
   "id": "53fa7f99",
   "metadata": {},
   "source": [
    "# 2. Analysing patient data\n",
    "\n",
    "Let's have a look at a dataset first"
   ]
  },
  {
   "cell_type": "code",
   "execution_count": 16,
   "id": "7cbf39f7",
   "metadata": {},
   "outputs": [],
   "source": [
    "# NumPy is a Python library used for operations with matrices and arrays\n",
    "# Numpy comes pre-installed with anaconda\n",
    "import numpy"
   ]
  },
  {
   "cell_type": "code",
   "execution_count": 17,
   "id": "7b1a8da0",
   "metadata": {},
   "outputs": [],
   "source": [
    "data = numpy.loadtxt(fname='data/inflammation-01.csv', delimiter=',')"
   ]
  },
  {
   "cell_type": "code",
   "execution_count": 18,
   "id": "6b3a59da",
   "metadata": {},
   "outputs": [
    {
     "name": "stdout",
     "output_type": "stream",
     "text": [
      "[[0. 0. 1. ... 3. 0. 0.]\n",
      " [0. 1. 2. ... 1. 0. 1.]\n",
      " [0. 1. 1. ... 2. 1. 1.]\n",
      " ...\n",
      " [0. 1. 1. ... 1. 1. 1.]\n",
      " [0. 0. 0. ... 0. 2. 0.]\n",
      " [0. 0. 1. ... 1. 1. 0.]]\n"
     ]
    }
   ],
   "source": [
    "print(data) # Shows small part of the dataset"
   ]
  },
  {
   "cell_type": "code",
   "execution_count": 19,
   "id": "6caa8e6c",
   "metadata": {},
   "outputs": [
    {
     "name": "stdout",
     "output_type": "stream",
     "text": [
      "<class 'numpy.ndarray'>\n"
     ]
    }
   ],
   "source": [
    "print(type(data))"
   ]
  },
  {
   "cell_type": "code",
   "execution_count": 20,
   "id": "966d6a83",
   "metadata": {},
   "outputs": [
    {
     "name": "stdout",
     "output_type": "stream",
     "text": [
      "float64\n"
     ]
    }
   ],
   "source": [
    "print(data.dtype)"
   ]
  },
  {
   "cell_type": "code",
   "execution_count": 21,
   "id": "c771fd57",
   "metadata": {},
   "outputs": [
    {
     "name": "stdout",
     "output_type": "stream",
     "text": [
      "(60, 40)\n"
     ]
    }
   ],
   "source": [
    "print(data.shape)"
   ]
  },
  {
   "cell_type": "code",
   "execution_count": 22,
   "id": "59f95343",
   "metadata": {},
   "outputs": [
    {
     "name": "stdout",
     "output_type": "stream",
     "text": [
      "first element in data: 0.0\n"
     ]
    }
   ],
   "source": [
    "# Indexing an array\n",
    "print('first element in data:', data[0, 0])"
   ]
  },
  {
   "cell_type": "markdown",
   "id": "5f0634ca",
   "metadata": {},
   "source": [
    "### Slicing data"
   ]
  },
  {
   "cell_type": "code",
   "execution_count": 23,
   "id": "edb02359",
   "metadata": {},
   "outputs": [
    {
     "name": "stdout",
     "output_type": "stream",
     "text": [
      "[[0. 0. 1. 3. 1. 2. 4. 7. 8. 3.]\n",
      " [0. 1. 2. 1. 2. 1. 3. 2. 2. 6.]\n",
      " [0. 1. 1. 3. 3. 2. 6. 2. 5. 9.]\n",
      " [0. 0. 2. 0. 4. 2. 2. 1. 6. 7.]]\n"
     ]
    }
   ],
   "source": [
    "print(data[0:4, 0:10])"
   ]
  },
  {
   "cell_type": "code",
   "execution_count": 24,
   "id": "c841a5d6",
   "metadata": {},
   "outputs": [
    {
     "name": "stdout",
     "output_type": "stream",
     "text": [
      "[[2. 3. 0. 0.]\n",
      " [1. 1. 0. 1.]\n",
      " [2. 2. 1. 1.]]\n"
     ]
    }
   ],
   "source": [
    "subset = data[:3, -4:] # we can use -4 to call the index from the end\n",
    "print(subset)"
   ]
  },
  {
   "cell_type": "markdown",
   "id": "b73d7b97",
   "metadata": {},
   "source": [
    "### Analysing data"
   ]
  },
  {
   "cell_type": "code",
   "execution_count": 25,
   "id": "82e7b043",
   "metadata": {},
   "outputs": [
    {
     "name": "stdout",
     "output_type": "stream",
     "text": [
      "6.14875\n"
     ]
    }
   ],
   "source": [
    "print(numpy.mean(data))"
   ]
  },
  {
   "cell_type": "code",
   "execution_count": 26,
   "id": "d486dd0c",
   "metadata": {},
   "outputs": [
    {
     "name": "stdout",
     "output_type": "stream",
     "text": [
      "maximum inflammation: 20.0\n",
      "mininum inflammation: 0.0\n",
      "standard deviation: 4.613833197118566\n"
     ]
    }
   ],
   "source": [
    "# Useful statistics\n",
    "maxval, minval, stdval = numpy.max(data), numpy.min(data), numpy.std(data)\n",
    "\n",
    "print('maximum inflammation:', maxval)\n",
    "print('mininum inflammation:', minval)\n",
    "print('standard deviation:', stdval)"
   ]
  },
  {
   "cell_type": "markdown",
   "id": "2b47a575",
   "metadata": {},
   "source": [
    "When analysing data, though, we often want to look at variations in statistical values, such as the maximum inflammation per patient or the average inflammation per day."
   ]
  },
  {
   "cell_type": "code",
   "execution_count": 27,
   "id": "2cde4471",
   "metadata": {},
   "outputs": [
    {
     "name": "stdout",
     "output_type": "stream",
     "text": [
      "maximum inflammation patient 0: 18.0\n"
     ]
    }
   ],
   "source": [
    "# Option 1\n",
    "patient_0 = data[0, :] #data[0, 0:40]\n",
    "print('maximum inflammation patient 0:', numpy.max(patient_0))"
   ]
  },
  {
   "cell_type": "code",
   "execution_count": 28,
   "id": "8393bb2d",
   "metadata": {},
   "outputs": [
    {
     "name": "stdout",
     "output_type": "stream",
     "text": [
      "[ 0.          0.45        1.11666667  1.75        2.43333333  3.15\n",
      "  3.8         3.88333333  5.23333333  5.51666667  5.95        5.9\n",
      "  8.35        7.73333333  8.36666667  9.5         9.58333333 10.63333333\n",
      " 11.56666667 12.35       13.25       11.96666667 11.03333333 10.16666667\n",
      " 10.          8.66666667  9.15        7.25        7.33333333  6.58333333\n",
      "  6.06666667  5.95        5.11666667  3.6         3.3         3.56666667\n",
      "  2.48333333  1.5         1.13333333  0.56666667]\n"
     ]
    }
   ],
   "source": [
    "# Mean per day over all patients\n",
    "print(numpy.mean(data, axis=0))"
   ]
  },
  {
   "cell_type": "code",
   "execution_count": 29,
   "id": "6a9ee811",
   "metadata": {},
   "outputs": [
    {
     "name": "stdout",
     "output_type": "stream",
     "text": [
      "(40,)\n"
     ]
    }
   ],
   "source": [
    "print(numpy.mean(data, axis=0).shape)"
   ]
  },
  {
   "cell_type": "code",
   "execution_count": 30,
   "id": "535ccba7",
   "metadata": {},
   "outputs": [
    {
     "name": "stdout",
     "output_type": "stream",
     "text": [
      "[5.45  5.425 6.1   5.9   5.55  6.225 5.975 6.65  6.625 6.525 6.775 5.8\n",
      " 6.225 5.75  5.225 6.3   6.55  5.7   5.85  6.55  5.775 5.825 6.175 6.1\n",
      " 5.8   6.425 6.05  6.025 6.175 6.55  6.175 6.35  6.725 6.125 7.075 5.725\n",
      " 5.925 6.15  6.075 5.75  5.975 5.725 6.3   5.9   6.75  5.925 7.225 6.15\n",
      " 5.95  6.275 5.7   6.1   6.825 5.975 6.725 5.7   6.25  6.4   7.05  5.9  ]\n"
     ]
    }
   ],
   "source": [
    "# The average inflammation per patient across all days\n",
    "print(numpy.mean(data, axis=1))"
   ]
  },
  {
   "cell_type": "code",
   "execution_count": 31,
   "id": "cfb0da57",
   "metadata": {},
   "outputs": [
    {
     "name": "stdout",
     "output_type": "stream",
     "text": [
      "(60,)\n"
     ]
    }
   ],
   "source": [
    "# As a quick check, we can look at the shape\n",
    "print(numpy.mean(data, axis=1).shape)"
   ]
  },
  {
   "cell_type": "markdown",
   "id": "cac5108f",
   "metadata": {},
   "source": [
    "# 3. Visualizing tabular data"
   ]
  },
  {
   "cell_type": "code",
   "execution_count": 32,
   "id": "90a63cfd",
   "metadata": {},
   "outputs": [],
   "source": [
    "import matplotlib.pyplot"
   ]
  },
  {
   "cell_type": "code",
   "execution_count": 33,
   "id": "6ac66fd3",
   "metadata": {},
   "outputs": [
    {
     "data": {
      "image/png": "[encoded data removed]",
      "text/plain": [
       "<Figure size 432x288 with 1 Axes>"
      ]
     },
     "metadata": {
      "needs_background": "light"
     },
     "output_type": "display_data"
    }
   ],
   "source": [
    "# Plot entire dataset as a heatmap\n",
    "image = matplotlib.pyplot.imshow(data)\n",
    "matplotlib.pyplot.show(image)"
   ]
  },
  {
   "cell_type": "code",
   "execution_count": 34,
   "id": "1feaa3bf",
   "metadata": {},
   "outputs": [],
   "source": [
    "# Let's make our lives easier with an alias\n",
    "import matplotlib.pyplot as plt"
   ]
  },
  {
   "cell_type": "code",
   "execution_count": 35,
   "id": "6cd648f9",
   "metadata": {},
   "outputs": [
    {
     "data": {
      "image/png": "[encoded data removed]",
      "text/plain": [
       "<Figure size 432x288 with 1 Axes>"
      ]
     },
     "metadata": {
      "needs_background": "light"
     },
     "output_type": "display_data"
    }
   ],
   "source": [
    "# Plot the mean inflammation per day over all patients\n",
    "mean_inflammation = numpy.mean(data, axis=0)\n",
    "mean_plot = plt.plot(mean_inflammation)\n",
    "plt.show(mean_plot)"
   ]
  },
  {
   "cell_type": "markdown",
   "id": "77777034",
   "metadata": {},
   "source": [
    "This data looks suspicious! I would not expect to find a sharp peak in an average of the dataset. Very unlikely that the inflammation of all patients spikes on day 18. Let's look at two other statistics: max and min"
   ]
  },
  {
   "cell_type": "code",
   "execution_count": 36,
   "id": "721639f2",
   "metadata": {},
   "outputs": [
    {
     "data": {
      "image/png": "[encoded data removed]",
      "text/plain": [
       "<Figure size 432x288 with 1 Axes>"
      ]
     },
     "metadata": {
      "needs_background": "light"
     },
     "output_type": "display_data"
    }
   ],
   "source": [
    "max_plot = plt.plot(numpy.max(data, axis=0))\n",
    "plt.show(max_plot)"
   ]
  },
  {
   "cell_type": "code",
   "execution_count": 37,
   "id": "66c31aed",
   "metadata": {},
   "outputs": [
    {
     "data": {
      "image/png": "[encoded data removed]",
      "text/plain": [
       "<Figure size 432x288 with 1 Axes>"
      ]
     },
     "metadata": {
      "needs_background": "light"
     },
     "output_type": "display_data"
    }
   ],
   "source": [
    "min_plot = plt.plot(numpy.min(data, axis=0))\n",
    "plt.show(min_plot)"
   ]
  },
  {
   "cell_type": "markdown",
   "id": "dc8e9ee0",
   "metadata": {},
   "source": [
    "### Create inflammation_analysis.ipynb \n",
    "\n",
    "Let's organize our analysis in a new notebook\n",
    "\n",
    "**Steps:**\n",
    "1. Set up subplots\n",
    "2. Load data\n",
    "3. Plot data\n",
    "4. Add labels\n",
    "5. Save the figure"
   ]
  },
  {
   "cell_type": "markdown",
   "id": "97fa27cb",
   "metadata": {},
   "source": [
    "# 4. Repeating Actions with Loops\n",
    "\n",
    "Incentive: we encounterd some suspicious data and would like to check all datasets. We need a way to automate the process with loops."
   ]
  },
  {
   "cell_type": "code",
   "execution_count": 38,
   "id": "aeeabe6e",
   "metadata": {},
   "outputs": [],
   "source": [
    "odds = [1, 3, 5, 7]"
   ]
  },
  {
   "cell_type": "code",
   "execution_count": 39,
   "id": "d087fc11",
   "metadata": {},
   "outputs": [
    {
     "name": "stdout",
     "output_type": "stream",
     "text": [
      "1\n",
      "3\n",
      "5\n",
      "7\n"
     ]
    }
   ],
   "source": [
    "print(odds[0])\n",
    "print(odds[1])\n",
    "print(odds[2])\n",
    "print(odds[3])"
   ]
  },
  {
   "cell_type": "markdown",
   "id": "f656db7b",
   "metadata": {},
   "source": [
    "Bad approach\n",
    "1. **Not scalable**. Four entries might be doable, hundreds will not!\n",
    "1. **Difficult to maintain**. If we want to change the print statement, we would need to change it four times. DRY -> Don't Repeat Yourself\n",
    "1. **Fragile**. If odds changes size, we would need to update the print statement."
   ]
  },
  {
   "cell_type": "code",
   "execution_count": 40,
   "id": "944b694c",
   "metadata": {},
   "outputs": [
    {
     "name": "stdout",
     "output_type": "stream",
     "text": [
      "1\n",
      "3\n",
      "5\n",
      "7\n",
      "9\n"
     ]
    }
   ],
   "source": [
    "# Use a for loop\n",
    "odds = [1, 3, 5, 7, 9]\n",
    "for num in odds:\n",
    "    print(num)"
   ]
  },
  {
   "cell_type": "code",
   "execution_count": 41,
   "id": "152d686b",
   "metadata": {},
   "outputs": [
    {
     "name": "stdout",
     "output_type": "stream",
     "text": [
      "1\n",
      "3\n",
      "5\n",
      "7\n",
      "9\n"
     ]
    }
   ],
   "source": [
    "# The name of the variable is not critical, aim for meaning and readability\n",
    "for banana in odds:\n",
    "    print(banana)"
   ]
  },
  {
   "cell_type": "code",
   "execution_count": 42,
   "id": "a18829f0",
   "metadata": {},
   "outputs": [
    {
     "name": "stdout",
     "output_type": "stream",
     "text": [
      "There are 3 names in the list.\n"
     ]
    }
   ],
   "source": [
    "# Let's find the length of a list with a loop\n",
    "length = 0\n",
    "names = ['Curie', 'Darwin', 'Turing']\n",
    "for name in names:\n",
    "    length = length + 1\n",
    "print('There are', length, 'names in the list.')"
   ]
  },
  {
   "cell_type": "code",
   "execution_count": 43,
   "id": "1c62e964",
   "metadata": {},
   "outputs": [
    {
     "name": "stdout",
     "output_type": "stream",
     "text": [
      "3\n"
     ]
    }
   ],
   "source": [
    "# It's worth googling for solutions first\n",
    "print(len(names))"
   ]
  },
  {
   "cell_type": "code",
   "execution_count": 44,
   "id": "667cde5b",
   "metadata": {},
   "outputs": [
    {
     "name": "stdout",
     "output_type": "stream",
     "text": [
      "Curie\n",
      "Darwin\n",
      "Turing\n",
      "after the loop, the name is Turing\n"
     ]
    }
   ],
   "source": [
    "# A variable used inside a loop stills exists after loop completion\n",
    "name = 'Rosalind'\n",
    "for name in names:\n",
    "    print(name)\n",
    "print('after the loop, the name is', name)"
   ]
  },
  {
   "cell_type": "markdown",
   "id": "68620e39",
   "metadata": {},
   "source": [
    "### Looping over multiple data files\n",
    "\n",
    "As a final piece to processing our inflammation data, we need a way to get a list of all the files in our data directory whose names start with `inflammation-` and end with `.csv`. The following library will help us to achieve this:"
   ]
  },
  {
   "cell_type": "code",
   "execution_count": 45,
   "id": "3814d693",
   "metadata": {},
   "outputs": [],
   "source": [
    "import glob"
   ]
  },
  {
   "cell_type": "code",
   "execution_count": 46,
   "id": "e70ac0e1",
   "metadata": {},
   "outputs": [
    {
     "name": "stdout",
     "output_type": "stream",
     "text": [
      "['data\\\\inflammation-01.csv', 'data\\\\inflammation-02.csv', 'data\\\\inflammation-03.csv', 'data\\\\inflammation-04.csv', 'data\\\\inflammation-05.csv', 'data\\\\inflammation-06.csv', 'data\\\\inflammation-07.csv', 'data\\\\inflammation-08.csv', 'data\\\\inflammation-09.csv', 'data\\\\inflammation-10.csv', 'data\\\\inflammation-11.csv', 'data\\\\inflammation-12.csv']\n"
     ]
    }
   ],
   "source": [
    "print(glob.glob('data/inflammation*.csv'))"
   ]
  },
  {
   "cell_type": "markdown",
   "id": "850e6e72",
   "metadata": {},
   "source": [
    "### Update inflammation_analysis.ipynb \n",
    "Add a for-loop to perform the analysis and plotting for all available datasets"
   ]
  },
  {
   "cell_type": "markdown",
   "id": "c02199d6",
   "metadata": {},
   "source": [
    "# End of part 1"
   ]
  }
 ],
 "metadata": {
  "kernelspec": {
   "display_name": "Python 3 (ipykernel)",
   "language": "python",
   "name": "python3"
  },
  "language_info": {
   "codemirror_mode": {
    "name": "ipython",
    "version": 3
   },
   "file_extension": ".py",
   "mimetype": "text/x-python",
   "name": "python",
   "nbconvert_exporter": "python",
   "pygments_lexer": "ipython3",
   "version": "3.8.5"
  }
 },
 "nbformat": 4,
 "nbformat_minor": 5
}
