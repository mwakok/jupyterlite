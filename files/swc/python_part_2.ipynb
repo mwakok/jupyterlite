{
 "cells": [
  {
   "cell_type": "markdown",
   "id": "c3f224d0",
   "metadata": {},
   "source": [
    "# Python part 2\n"
   ]
  },
  {
   "cell_type": "markdown",
   "id": "ab2ef1c5",
   "metadata": {},
   "source": [
    "# 5. Making choices\n",
    "\n",
    "In our last lesson, we discovered something suspicious was going on in our inflammation data by drawing some plots. How can we use Python to automatically recognize the different features we saw, and take a different action for each? In this lesson, we’ll learn how to write code that runs only when certain conditions are true."
   ]
  },
  {
   "cell_type": "code",
   "execution_count": 1,
   "id": "05563890",
   "metadata": {},
   "outputs": [
    {
     "name": "stdout",
     "output_type": "stream",
     "text": [
      "not greater\n",
      "done\n"
     ]
    }
   ],
   "source": [
    "# if-statement\n",
    "num = 37\n",
    "if num > 100: # notice colon\n",
    "    print('greater') # notice indentation\n",
    "else:\n",
    "    print('not greater')\n",
    "print('done')"
   ]
  },
  {
   "cell_type": "code",
   "execution_count": 2,
   "id": "fb5c49aa",
   "metadata": {},
   "outputs": [
    {
     "name": "stdout",
     "output_type": "stream",
     "text": [
      "before conditional\n",
      "after conditional\n"
     ]
    }
   ],
   "source": [
    "num = 54\n",
    "print('before conditional')\n",
    "if num > 100:\n",
    "    print(num, 'is greater than 100')\n",
    "print('after conditional')"
   ]
  },
  {
   "cell_type": "markdown",
   "id": "18e219ba",
   "metadata": {},
   "source": [
    "Consider conditional statements carefully to check which conditions are considered and you would like to consider"
   ]
  },
  {
   "cell_type": "code",
   "execution_count": 3,
   "id": "921d4160",
   "metadata": {},
   "outputs": [
    {
     "name": "stdout",
     "output_type": "stream",
     "text": [
      "-3 is negative\n"
     ]
    }
   ],
   "source": [
    "# Chain multiple if-statements\n",
    "num = -3\n",
    "\n",
    "if num > 0:\n",
    "    print(num, 'is positive')\n",
    "elif num == 0: \n",
    "    print(num, 'is zero')\n",
    "else:\n",
    "    print(num, 'is negative')\n"
   ]
  },
  {
   "cell_type": "code",
   "execution_count": 4,
   "id": "61f2221a",
   "metadata": {},
   "outputs": [
    {
     "name": "stdout",
     "output_type": "stream",
     "text": [
      "False\n",
      "True\n"
     ]
    }
   ],
   "source": [
    "# Difference between == and =\n",
    "print(num == 4)\n",
    "num = 4 \n",
    "print(num == 4)"
   ]
  },
  {
   "cell_type": "code",
   "execution_count": 5,
   "id": "fc591d59",
   "metadata": {},
   "outputs": [
    {
     "name": "stdout",
     "output_type": "stream",
     "text": [
      "at least one part is false\n"
     ]
    }
   ],
   "source": [
    "# Combine comparisons with 'and'\n",
    "if (1 > 0) and (-1 >= 0): # best practice to use parentheses\n",
    "    print('both parts are true')\n",
    "else:\n",
    "    print('at least one part is false')"
   ]
  },
  {
   "cell_type": "code",
   "execution_count": 6,
   "id": "153e91db",
   "metadata": {},
   "outputs": [
    {
     "name": "stdout",
     "output_type": "stream",
     "text": [
      "at least one test is true\n"
     ]
    }
   ],
   "source": [
    "# Combine with 'or'\n",
    "if (1 > 0) or (-1 >= 0):\n",
    "    print('at least one test is true')"
   ]
  },
  {
   "cell_type": "markdown",
   "id": "93653384",
   "metadata": {},
   "source": [
    "## Checking our Data\n",
    "\n",
    "1. Let's rerun the `inflammation_analysis.ipynb` \n",
    "1. Discuss data \n",
    "\n",
    "Let's catch the suspicious data"
   ]
  },
  {
   "cell_type": "code",
   "execution_count": 7,
   "id": "eb737f08",
   "metadata": {},
   "outputs": [],
   "source": [
    "import numpy"
   ]
  },
  {
   "cell_type": "code",
   "execution_count": 8,
   "id": "174432a1",
   "metadata": {},
   "outputs": [
    {
     "name": "stdout",
     "output_type": "stream",
     "text": [
      "[ 0.  1.  2.  3.  4.  5.  6.  7.  8.  9. 10. 11. 12. 13. 14. 15. 16. 17.\n",
      " 18. 19. 20. 19. 18. 17. 16. 15. 14. 13. 12. 11. 10.  9.  8.  7.  6.  5.\n",
      "  4.  3.  2.  1.]\n"
     ]
    }
   ],
   "source": [
    "# Let's inspect max values of the first dataset\n",
    "data = numpy.loadtxt(fname='data/inflammation-01.csv', delimiter=',')\n",
    "\n",
    "max_inflammation = numpy.max(data, axis=0)\n",
    "print(max_inflammation)"
   ]
  },
  {
   "cell_type": "code",
   "execution_count": 9,
   "id": "9a4cec1a",
   "metadata": {},
   "outputs": [
    {
     "name": "stdout",
     "output_type": "stream",
     "text": [
      "Suspicious looking maxima!\n"
     ]
    }
   ],
   "source": [
    "# Let use day_0 == 0 and day_20 == 20\n",
    "if (max_inflammation[0] == 0) and (max_inflammation[20] == 20):\n",
    "    print('Suspicious looking maxima!')"
   ]
  },
  {
   "cell_type": "code",
   "execution_count": 10,
   "id": "45c16596",
   "metadata": {},
   "outputs": [
    {
     "name": "stdout",
     "output_type": "stream",
     "text": [
      "[0. 0. 0. 0. 0. 0. 0. 0. 0. 0. 0. 0. 0. 0. 0. 0. 0. 0. 0. 0. 0. 0. 0. 0.\n",
      " 0. 0. 0. 0. 0. 0. 0. 0. 0. 0. 0. 0. 0. 0. 0. 0.]\n"
     ]
    }
   ],
   "source": [
    "data = numpy.loadtxt(fname='data/inflammation-03.csv', delimiter=',')\n",
    "\n",
    "min_inflammation = numpy.min(data, axis=0)\n",
    "print(min_inflammation)"
   ]
  },
  {
   "cell_type": "code",
   "execution_count": 11,
   "id": "be4766f1",
   "metadata": {},
   "outputs": [
    {
     "name": "stdout",
     "output_type": "stream",
     "text": [
      "Minima add up to zero\n"
     ]
    }
   ],
   "source": [
    "# Let's use sum == 0\n",
    "if numpy.sum(min_inflammation) == 0:\n",
    "    print('Minima add up to zero')"
   ]
  },
  {
   "cell_type": "markdown",
   "id": "d14422a3",
   "metadata": {},
   "source": [
    "### Optional: Let's test all our datasets\n",
    "\n",
    "1. Find files\n",
    "1. Create for-loop over filenames\n",
    "1. Load data\n",
    "1. Test data"
   ]
  },
  {
   "cell_type": "code",
   "execution_count": 12,
   "id": "6e539bbe",
   "metadata": {},
   "outputs": [
    {
     "name": "stdout",
     "output_type": "stream",
     "text": [
      "Suspicious looking maxima in: data\\inflammation-01.csv\n",
      "Suspicious looking maxima in: data\\inflammation-02.csv\n",
      "Minima add up to zero in: data\\inflammation-03.csv\n",
      "Suspicious looking maxima in: data\\inflammation-04.csv\n",
      "Suspicious looking maxima in: data\\inflammation-05.csv\n",
      "Suspicious looking maxima in: data\\inflammation-06.csv\n",
      "Suspicious looking maxima in: data\\inflammation-07.csv\n",
      "Minima add up to zero in: data\\inflammation-08.csv\n",
      "Suspicious looking maxima in: data\\inflammation-09.csv\n",
      "Suspicious looking maxima in: data\\inflammation-10.csv\n",
      "Minima add up to zero in: data\\inflammation-11.csv\n",
      "Suspicious looking maxima in: data\\inflammation-12.csv\n"
     ]
    }
   ],
   "source": [
    "import glob\n",
    "import numpy\n",
    "\n",
    "filenames = glob.glob('data/inflammation*.csv')\n",
    "for filename in filenames:\n",
    "    data = numpy.loadtxt(fname=filename, delimiter=',')\n",
    "    \n",
    "    # Data to test\n",
    "    max_inflammation = numpy.max(data, axis=0)\n",
    "    min_inflammation = numpy.min(data, axis=0)\n",
    "    \n",
    "    if (max_inflammation[0] == 0) and (max_inflammation[20] == 20):\n",
    "        print('Suspicious looking maxima in:', filename) \n",
    "    elif numpy.sum(min_inflammation) == 0:\n",
    "        print('Minima add up to zero in:', filename) \n",
    "    else:\n",
    "        print(filename, ' looks OK') "
   ]
  },
  {
   "cell_type": "markdown",
   "id": "0f13c0e4",
   "metadata": {},
   "source": [
    "# 6. Creating functions\n",
    "\n",
    "\n",
    "We’d like a way to package our code so that it is easier to reuse, and Python provides for this by letting us define things called ‘functions’."
   ]
  },
  {
   "cell_type": "code",
   "execution_count": 13,
   "id": "d9d9b330",
   "metadata": {},
   "outputs": [],
   "source": [
    "# Simple example function to convert Fahrenheit to Celsius\n",
    "def fahr_to_celsius(temp_F):\n",
    "    temp_C = (temp_F - 32) * (5 / 9)\n",
    "    return temp_C"
   ]
  },
  {
   "cell_type": "code",
   "execution_count": 14,
   "id": "3b416a31",
   "metadata": {},
   "outputs": [
    {
     "name": "stdout",
     "output_type": "stream",
     "text": [
      "0.0\n"
     ]
    }
   ],
   "source": [
    "temp_in_celsius = fahr_to_celsius(32)\n",
    "print(temp_in_celsius)"
   ]
  },
  {
   "cell_type": "code",
   "execution_count": 15,
   "id": "2edc2c06",
   "metadata": {},
   "outputs": [],
   "source": [
    "# Second example to convert Celsius to Kelvin\n",
    "def celsius_to_kelvin(temp_C):\n",
    "    temp_K = temp_C + 273.15\n",
    "    return temp_K"
   ]
  },
  {
   "cell_type": "code",
   "execution_count": 16,
   "id": "25b3ff7d",
   "metadata": {},
   "outputs": [
    {
     "name": "stdout",
     "output_type": "stream",
     "text": [
      "freezing point of water in Kelvin: 273.15\n"
     ]
    }
   ],
   "source": [
    "print('freezing point of water in Kelvin:', celsius_to_kelvin(0))"
   ]
  },
  {
   "cell_type": "code",
   "execution_count": 17,
   "id": "d1a440fb",
   "metadata": {},
   "outputs": [],
   "source": [
    "# Combine function to convert Fahrenheit to Kelvin\n",
    "def fahr_to_kelvin(temp_F):\n",
    "    temp_C = fahr_to_celsius(temp_F)\n",
    "    temp_K = celsius_to_kelvin(temp_C)\n",
    "    return temp_K"
   ]
  },
  {
   "cell_type": "code",
   "execution_count": 18,
   "id": "c4ae337f",
   "metadata": {},
   "outputs": [
    {
     "name": "stdout",
     "output_type": "stream",
     "text": [
      "boiling point of water in Kelvin: 373.15\n"
     ]
    }
   ],
   "source": [
    "print('boiling point of water in Kelvin:', fahr_to_kelvin(212))"
   ]
  },
  {
   "cell_type": "markdown",
   "id": "3d5d6568",
   "metadata": {},
   "source": [
    "This is our first taste of how larger programs are built: we define basic operations, then combine them in ever-larger chunks to get the effect we want. Real-life functions will usually be larger than the ones shown here — typically half a dozen to a few dozen lines — but they shouldn’t ever be much longer than that, or the next person who reads it won’t be able to understand what’s going on. General guideline: a function should perform one task."
   ]
  },
  {
   "cell_type": "markdown",
   "id": "898017db",
   "metadata": {},
   "source": [
    "### Defining default"
   ]
  },
  {
   "cell_type": "code",
   "execution_count": 19,
   "id": "75134225",
   "metadata": {},
   "outputs": [],
   "source": [
    "# Example function default arguments\n",
    "def display_number(a=1, b=2, c=3):\n",
    "    print('a:', a, 'b', b, 'c', c)"
   ]
  },
  {
   "cell_type": "code",
   "execution_count": 20,
   "id": "873558f7",
   "metadata": {},
   "outputs": [
    {
     "name": "stdout",
     "output_type": "stream",
     "text": [
      "a: 50 b 2 c 3\n"
     ]
    }
   ],
   "source": [
    "display_number(50)"
   ]
  },
  {
   "cell_type": "code",
   "execution_count": 21,
   "id": "ec2a1a6e",
   "metadata": {},
   "outputs": [
    {
     "name": "stdout",
     "output_type": "stream",
     "text": [
      "a: 50 b 66 c 3\n"
     ]
    }
   ],
   "source": [
    "display_number(50, 66)"
   ]
  },
  {
   "cell_type": "code",
   "execution_count": 22,
   "id": "a24fac17",
   "metadata": {},
   "outputs": [
    {
     "name": "stdout",
     "output_type": "stream",
     "text": [
      "a: 1 b 2 c 35\n"
     ]
    }
   ],
   "source": [
    "display_number(c=35)"
   ]
  },
  {
   "cell_type": "code",
   "execution_count": 23,
   "id": "b59aaa4e",
   "metadata": {},
   "outputs": [
    {
     "name": "stdout",
     "output_type": "stream",
     "text": [
      "a: 5 b 2 c 10\n"
     ]
    }
   ],
   "source": [
    "display_number(a=5, c=10)"
   ]
  },
  {
   "cell_type": "code",
   "execution_count": 24,
   "id": "6b0748ec",
   "metadata": {},
   "outputs": [
    {
     "name": "stdout",
     "output_type": "stream",
     "text": [
      "Help on function loadtxt in module numpy:\n",
      "\n",
      "loadtxt(fname, dtype=<class 'float'>, comments='#', delimiter=None, converters=None, skiprows=0, usecols=None, unpack=False, ndmin=0, encoding='bytes', max_rows=None, *, like=None)\n",
      "    Load data from a text file.\n",
      "    \n",
      "    Each row in the text file must have the same number of values.\n",
      "    \n",
      "    Parameters\n",
      "    ----------\n",
      "    fname : file, str, or pathlib.Path\n",
      "        File, filename, or generator to read.  If the filename extension is\n",
      "        ``.gz`` or ``.bz2``, the file is first decompressed. Note that\n",
      "        generators should return byte strings.\n",
      "    dtype : data-type, optional\n",
      "        Data-type of the resulting array; default: float.  If this is a\n",
      "        structured data-type, the resulting array will be 1-dimensional, and\n",
      "        each row will be interpreted as an element of the array.  In this\n",
      "        case, the number of columns used must match the number of fields in\n",
      "        the data-type.\n",
      "    comments : str or sequence of str, optional\n",
      "        The characters or list of characters used to indicate the start of a\n",
      "        comment. None implies no comments. For backwards compatibility, byte\n",
      "        strings will be decoded as 'latin1'. The default is '#'.\n",
      "    delimiter : str, optional\n",
      "        The string used to separate values. For backwards compatibility, byte\n",
      "        strings will be decoded as 'latin1'. The default is whitespace.\n",
      "    converters : dict, optional\n",
      "        A dictionary mapping column number to a function that will parse the\n",
      "        column string into the desired value.  E.g., if column 0 is a date\n",
      "        string: ``converters = {0: datestr2num}``.  Converters can also be\n",
      "        used to provide a default value for missing data (but see also\n",
      "        `genfromtxt`): ``converters = {3: lambda s: float(s.strip() or 0)}``.\n",
      "        Default: None.\n",
      "    skiprows : int, optional\n",
      "        Skip the first `skiprows` lines, including comments; default: 0.\n",
      "    usecols : int or sequence, optional\n",
      "        Which columns to read, with 0 being the first. For example,\n",
      "        ``usecols = (1,4,5)`` will extract the 2nd, 5th and 6th columns.\n",
      "        The default, None, results in all columns being read.\n",
      "    \n",
      "        .. versionchanged:: 1.11.0\n",
      "            When a single column has to be read it is possible to use\n",
      "            an integer instead of a tuple. E.g ``usecols = 3`` reads the\n",
      "            fourth column the same way as ``usecols = (3,)`` would.\n",
      "    unpack : bool, optional\n",
      "        If True, the returned array is transposed, so that arguments may be\n",
      "        unpacked using ``x, y, z = loadtxt(...)``.  When used with a\n",
      "        structured data-type, arrays are returned for each field.\n",
      "        Default is False.\n",
      "    ndmin : int, optional\n",
      "        The returned array will have at least `ndmin` dimensions.\n",
      "        Otherwise mono-dimensional axes will be squeezed.\n",
      "        Legal values: 0 (default), 1 or 2.\n",
      "    \n",
      "        .. versionadded:: 1.6.0\n",
      "    encoding : str, optional\n",
      "        Encoding used to decode the inputfile. Does not apply to input streams.\n",
      "        The special value 'bytes' enables backward compatibility workarounds\n",
      "        that ensures you receive byte arrays as results if possible and passes\n",
      "        'latin1' encoded strings to converters. Override this value to receive\n",
      "        unicode arrays and pass strings as input to converters.  If set to None\n",
      "        the system default is used. The default value is 'bytes'.\n",
      "    \n",
      "        .. versionadded:: 1.14.0\n",
      "    max_rows : int, optional\n",
      "        Read `max_rows` lines of content after `skiprows` lines. The default\n",
      "        is to read all the lines.\n",
      "    \n",
      "        .. versionadded:: 1.16.0\n",
      "    like : array_like\n",
      "        Reference object to allow the creation of arrays which are not\n",
      "        NumPy arrays. If an array-like passed in as ``like`` supports\n",
      "        the ``__array_function__`` protocol, the result will be defined\n",
      "        by it. In this case, it ensures the creation of an array object\n",
      "        compatible with that passed in via this argument.\n",
      "    \n",
      "        .. versionadded:: 1.20.0\n",
      "    \n",
      "    Returns\n",
      "    -------\n",
      "    out : ndarray\n",
      "        Data read from the text file.\n",
      "    \n",
      "    See Also\n",
      "    --------\n",
      "    load, fromstring, fromregex\n",
      "    genfromtxt : Load data with missing values handled as specified.\n",
      "    scipy.io.loadmat : reads MATLAB data files\n",
      "    \n",
      "    Notes\n",
      "    -----\n",
      "    This function aims to be a fast reader for simply formatted files.  The\n",
      "    `genfromtxt` function provides more sophisticated handling of, e.g.,\n",
      "    lines with missing values.\n",
      "    \n",
      "    .. versionadded:: 1.10.0\n",
      "    \n",
      "    The strings produced by the Python float.hex method can be used as\n",
      "    input for floats.\n",
      "    \n",
      "    Examples\n",
      "    --------\n",
      "    >>> from io import StringIO   # StringIO behaves like a file object\n",
      "    >>> c = StringIO(\"0 1\\n2 3\")\n",
      "    >>> np.loadtxt(c)\n",
      "    array([[0., 1.],\n",
      "           [2., 3.]])\n",
      "    \n",
      "    >>> d = StringIO(\"M 21 72\\nF 35 58\")\n",
      "    >>> np.loadtxt(d, dtype={'names': ('gender', 'age', 'weight'),\n",
      "    ...                      'formats': ('S1', 'i4', 'f4')})\n",
      "    array([(b'M', 21, 72.), (b'F', 35, 58.)],\n",
      "          dtype=[('gender', 'S1'), ('age', '<i4'), ('weight', '<f4')])\n",
      "    \n",
      "    >>> c = StringIO(\"1,0,2\\n3,0,4\")\n",
      "    >>> x, y = np.loadtxt(c, delimiter=',', usecols=(0, 2), unpack=True)\n",
      "    >>> x\n",
      "    array([1., 3.])\n",
      "    >>> y\n",
      "    array([2., 4.])\n",
      "    \n",
      "    This example shows how `converters` can be used to convert a field\n",
      "    with a trailing minus sign into a negative number.\n",
      "    \n",
      "    >>> s = StringIO('10.01 31.25-\\n19.22 64.31\\n17.57- 63.94')\n",
      "    >>> def conv(fld):\n",
      "    ...     return -float(fld[:-1]) if fld.endswith(b'-') else float(fld)\n",
      "    ...\n",
      "    >>> np.loadtxt(s, converters={0: conv, 1: conv})\n",
      "    array([[ 10.01, -31.25],\n",
      "           [ 19.22,  64.31],\n",
      "           [-17.57,  63.94]])\n",
      "\n"
     ]
    }
   ],
   "source": [
    "help(numpy.loadtxt)"
   ]
  },
  {
   "cell_type": "code",
   "execution_count": 25,
   "id": "9ee82d09",
   "metadata": {},
   "outputs": [],
   "source": [
    "# Adding a docstring\n",
    "def display_number(a=1, b=2, c=3):\n",
    "    ''' This is an example docstring\n",
    "    \n",
    "    \n",
    "    '''\n",
    "    print('a:', a, 'b', b, 'c', c)"
   ]
  },
  {
   "cell_type": "code",
   "execution_count": 26,
   "id": "1662a58b",
   "metadata": {},
   "outputs": [
    {
     "name": "stdout",
     "output_type": "stream",
     "text": [
      "Help on function display_number in module __main__:\n",
      "\n",
      "display_number(a=1, b=2, c=3)\n",
      "    This is an example docstring\n",
      "\n"
     ]
    }
   ],
   "source": [
    "help(display_number)"
   ]
  },
  {
   "cell_type": "markdown",
   "id": "e821a8e3",
   "metadata": {},
   "source": [
    "# Refactoring\n",
    "\n",
    "1. Update `inflammation_analysis.ipynb` by introducing functions\n",
    "2. Create a new script called `processing.py` and copy the functions there\n",
    "3. Create a new file called `inflammation_analysis_refactored.ipynb` and import our functions to run the analsysis"
   ]
  },
  {
   "cell_type": "markdown",
   "id": "c622019d",
   "metadata": {},
   "source": [
    "# 7. Errors and Exceptions\n",
    "\n",
    "Every programmer encounters errors, both those who are just beginning, and those who have been programming for years. Encountering errors and exceptions can be very frustrating at times, and can make coding feel like a hopeless endeavour. However, understanding what the different types of errors are and when you are likely to encounter them can help a lot. Once you know why you get certain types of errors, they become much easier to fix."
   ]
  },
  {
   "cell_type": "code",
   "execution_count": 27,
   "id": "6ff6d820",
   "metadata": {},
   "outputs": [
    {
     "ename": "IndexError",
     "evalue": "list index out of range",
     "output_type": "error",
     "traceback": [
      "\u001b[1;31m---------------------------------------------------------------------------\u001b[0m",
      "\u001b[1;31mIndexError\u001b[0m                                Traceback (most recent call last)",
      "\u001b[1;32m~\\AppData\\Local\\Temp/ipykernel_22352/70855051.py\u001b[0m in \u001b[0;36m<module>\u001b[1;34m\u001b[0m\n\u001b[0;32m      3\u001b[0m     \u001b[0mprint\u001b[0m\u001b[1;33m(\u001b[0m\u001b[0mice_cream\u001b[0m\u001b[1;33m[\u001b[0m\u001b[1;36m3\u001b[0m\u001b[1;33m]\u001b[0m\u001b[1;33m)\u001b[0m\u001b[1;33m\u001b[0m\u001b[1;33m\u001b[0m\u001b[0m\n\u001b[0;32m      4\u001b[0m \u001b[1;33m\u001b[0m\u001b[0m\n\u001b[1;32m----> 5\u001b[1;33m \u001b[0mfavorite_ice_cream\u001b[0m\u001b[1;33m(\u001b[0m\u001b[1;33m)\u001b[0m\u001b[1;33m\u001b[0m\u001b[1;33m\u001b[0m\u001b[0m\n\u001b[0m",
      "\u001b[1;32m~\\AppData\\Local\\Temp/ipykernel_22352/70855051.py\u001b[0m in \u001b[0;36mfavorite_ice_cream\u001b[1;34m()\u001b[0m\n\u001b[0;32m      1\u001b[0m \u001b[1;32mdef\u001b[0m \u001b[0mfavorite_ice_cream\u001b[0m\u001b[1;33m(\u001b[0m\u001b[1;33m)\u001b[0m\u001b[1;33m:\u001b[0m\u001b[1;33m\u001b[0m\u001b[1;33m\u001b[0m\u001b[0m\n\u001b[0;32m      2\u001b[0m     \u001b[0mice_cream\u001b[0m \u001b[1;33m=\u001b[0m \u001b[1;33m[\u001b[0m\u001b[1;34m'chocolate'\u001b[0m\u001b[1;33m,\u001b[0m \u001b[1;34m'vanilla'\u001b[0m\u001b[1;33m,\u001b[0m \u001b[1;34m'strawberry'\u001b[0m\u001b[1;33m]\u001b[0m\u001b[1;33m\u001b[0m\u001b[1;33m\u001b[0m\u001b[0m\n\u001b[1;32m----> 3\u001b[1;33m     \u001b[0mprint\u001b[0m\u001b[1;33m(\u001b[0m\u001b[0mice_cream\u001b[0m\u001b[1;33m[\u001b[0m\u001b[1;36m3\u001b[0m\u001b[1;33m]\u001b[0m\u001b[1;33m)\u001b[0m\u001b[1;33m\u001b[0m\u001b[1;33m\u001b[0m\u001b[0m\n\u001b[0m\u001b[0;32m      4\u001b[0m \u001b[1;33m\u001b[0m\u001b[0m\n\u001b[0;32m      5\u001b[0m \u001b[0mfavorite_ice_cream\u001b[0m\u001b[1;33m(\u001b[0m\u001b[1;33m)\u001b[0m\u001b[1;33m\u001b[0m\u001b[1;33m\u001b[0m\u001b[0m\n",
      "\u001b[1;31mIndexError\u001b[0m: list index out of range"
     ]
    }
   ],
   "source": [
    "def favorite_ice_cream():\n",
    "    ice_cream = ['chocolate', 'vanilla', 'strawberry']\n",
    "    print(ice_cream[3])\n",
    "    \n",
    "favorite_ice_cream()"
   ]
  },
  {
   "cell_type": "code",
   "execution_count": 28,
   "id": "5d068243",
   "metadata": {},
   "outputs": [
    {
     "ename": "SyntaxError",
     "evalue": "invalid syntax (Temp/ipykernel_22352/1007663813.py, line 2)",
     "output_type": "error",
     "traceback": [
      "\u001b[1;36m  File \u001b[1;32m\"C:\\Users\\Maurits\\AppData\\Local\\Temp/ipykernel_22352/1007663813.py\"\u001b[1;36m, line \u001b[1;32m2\u001b[0m\n\u001b[1;33m    def some_function()\u001b[0m\n\u001b[1;37m                       ^\u001b[0m\n\u001b[1;31mSyntaxError\u001b[0m\u001b[1;31m:\u001b[0m invalid syntax\n"
     ]
    }
   ],
   "source": [
    "# SyntaxError\n",
    "def some_function()\n",
    "    msg = 'hello, world'\n",
    "    print(msg)\n",
    "     return msg"
   ]
  },
  {
   "cell_type": "code",
   "execution_count": 29,
   "id": "278402ba",
   "metadata": {},
   "outputs": [
    {
     "ename": "NameError",
     "evalue": "name 'aa' is not defined",
     "output_type": "error",
     "traceback": [
      "\u001b[1;31m---------------------------------------------------------------------------\u001b[0m",
      "\u001b[1;31mNameError\u001b[0m                                 Traceback (most recent call last)",
      "\u001b[1;32m~\\AppData\\Local\\Temp/ipykernel_22352/1859799496.py\u001b[0m in \u001b[0;36m<module>\u001b[1;34m\u001b[0m\n\u001b[0;32m      1\u001b[0m \u001b[1;31m# NameError\u001b[0m\u001b[1;33m\u001b[0m\u001b[1;33m\u001b[0m\u001b[1;33m\u001b[0m\u001b[0m\n\u001b[1;32m----> 2\u001b[1;33m \u001b[0mprint\u001b[0m\u001b[1;33m(\u001b[0m\u001b[0maa\u001b[0m\u001b[1;33m)\u001b[0m\u001b[1;33m\u001b[0m\u001b[1;33m\u001b[0m\u001b[0m\n\u001b[0m",
      "\u001b[1;31mNameError\u001b[0m: name 'aa' is not defined"
     ]
    }
   ],
   "source": [
    "# NameError\n",
    "print(aa)"
   ]
  },
  {
   "cell_type": "code",
   "execution_count": 30,
   "id": "201444d9",
   "metadata": {},
   "outputs": [
    {
     "ename": "TypeError",
     "evalue": "can only concatenate str (not \"int\") to str",
     "output_type": "error",
     "traceback": [
      "\u001b[1;31m---------------------------------------------------------------------------\u001b[0m",
      "\u001b[1;31mTypeError\u001b[0m                                 Traceback (most recent call last)",
      "\u001b[1;32m~\\AppData\\Local\\Temp/ipykernel_22352/2268781298.py\u001b[0m in \u001b[0;36m<module>\u001b[1;34m\u001b[0m\n\u001b[0;32m      1\u001b[0m \u001b[1;31m# TypeError\u001b[0m\u001b[1;33m\u001b[0m\u001b[1;33m\u001b[0m\u001b[1;33m\u001b[0m\u001b[0m\n\u001b[0;32m      2\u001b[0m \u001b[0mnumber\u001b[0m \u001b[1;33m=\u001b[0m \u001b[1;34m'one'\u001b[0m\u001b[1;33m\u001b[0m\u001b[1;33m\u001b[0m\u001b[0m\n\u001b[1;32m----> 3\u001b[1;33m \u001b[0msum_values\u001b[0m \u001b[1;33m=\u001b[0m \u001b[0mnumber\u001b[0m \u001b[1;33m+\u001b[0m \u001b[1;36m1\u001b[0m\u001b[1;33m\u001b[0m\u001b[1;33m\u001b[0m\u001b[0m\n\u001b[0m",
      "\u001b[1;31mTypeError\u001b[0m: can only concatenate str (not \"int\") to str"
     ]
    }
   ],
   "source": [
    "# TypeError\n",
    "number = 'one'\n",
    "sum_values = number + 1"
   ]
  },
  {
   "cell_type": "code",
   "execution_count": 31,
   "id": "abc896b3",
   "metadata": {},
   "outputs": [
    {
     "ename": "FileNotFoundError",
     "evalue": "[Errno 2] No such file or directory: 'inflammation-01.csv'",
     "output_type": "error",
     "traceback": [
      "\u001b[1;31m---------------------------------------------------------------------------\u001b[0m",
      "\u001b[1;31mFileNotFoundError\u001b[0m                         Traceback (most recent call last)",
      "\u001b[1;32m~\\AppData\\Local\\Temp/ipykernel_22352/2328637792.py\u001b[0m in \u001b[0;36m<module>\u001b[1;34m\u001b[0m\n\u001b[0;32m      1\u001b[0m \u001b[1;31m# File errors\u001b[0m\u001b[1;33m\u001b[0m\u001b[1;33m\u001b[0m\u001b[1;33m\u001b[0m\u001b[0m\n\u001b[1;32m----> 2\u001b[1;33m \u001b[0mfile\u001b[0m \u001b[1;33m=\u001b[0m \u001b[0mopen\u001b[0m\u001b[1;33m(\u001b[0m\u001b[1;34m'inflammation-01.csv'\u001b[0m\u001b[1;33m)\u001b[0m\u001b[1;33m\u001b[0m\u001b[1;33m\u001b[0m\u001b[0m\n\u001b[0m",
      "\u001b[1;31mFileNotFoundError\u001b[0m: [Errno 2] No such file or directory: 'inflammation-01.csv'"
     ]
    }
   ],
   "source": [
    "# File errors\n",
    "file = open('inflammation-01.csv')"
   ]
  },
  {
   "cell_type": "markdown",
   "id": "f4211fc1",
   "metadata": {},
   "source": [
    "# 8. Defensive programming\n",
    "\n",
    "The previous lessons have introduced the basic tools of programming: variables and lists, file I/O, loops, conditionals, and functions. What they haven’t done is show us how to tell whether a program is getting the right answer, and how to tell if it’s still getting the right answer as we make changes to it.\n",
    "\n",
    "With that, I have some bad news for you: You will make mistakes! However, with that fact also comes knowledge. The first step toward getting the right answers from our programs is to assume that mistakes will happen and to guard against them. \n",
    "\n",
    "This is called defensive programming, and the most common way to do it is to add **assertions** to our code so that it checks itself as it runs. An assertion is simply a statement that something must be true at a certain point in a program. When Python sees one, it evaluates the assertion’s condition. If it’s true, Python does nothing, but if it’s false, Python halts the program immediately and prints the error message if one is provided. For example, this piece of code halts as soon as the loop encounters a value that isn’t positive:"
   ]
  },
  {
   "cell_type": "code",
   "execution_count": 32,
   "id": "f39a3277",
   "metadata": {},
   "outputs": [
    {
     "ename": "AssertionError",
     "evalue": "Data should only contain positive values",
     "output_type": "error",
     "traceback": [
      "\u001b[1;31m---------------------------------------------------------------------------\u001b[0m",
      "\u001b[1;31mAssertionError\u001b[0m                            Traceback (most recent call last)",
      "\u001b[1;32m~\\AppData\\Local\\Temp/ipykernel_22352/1760528197.py\u001b[0m in \u001b[0;36m<module>\u001b[1;34m\u001b[0m\n\u001b[0;32m      3\u001b[0m \u001b[0mtotal\u001b[0m \u001b[1;33m=\u001b[0m \u001b[1;36m0\u001b[0m\u001b[1;33m\u001b[0m\u001b[1;33m\u001b[0m\u001b[0m\n\u001b[0;32m      4\u001b[0m \u001b[1;32mfor\u001b[0m \u001b[0mnum\u001b[0m \u001b[1;32min\u001b[0m \u001b[0mnumbers\u001b[0m\u001b[1;33m:\u001b[0m\u001b[1;33m\u001b[0m\u001b[1;33m\u001b[0m\u001b[0m\n\u001b[1;32m----> 5\u001b[1;33m     \u001b[1;32massert\u001b[0m \u001b[0mnum\u001b[0m \u001b[1;33m>\u001b[0m \u001b[1;36m0\u001b[0m\u001b[1;33m,\u001b[0m \u001b[1;34m'Data should only contain positive values'\u001b[0m\u001b[1;33m\u001b[0m\u001b[1;33m\u001b[0m\u001b[0m\n\u001b[0m\u001b[0;32m      6\u001b[0m     \u001b[0mtotal\u001b[0m \u001b[1;33m=\u001b[0m \u001b[0mtotal\u001b[0m \u001b[1;33m+\u001b[0m \u001b[0mnum\u001b[0m\u001b[1;33m\u001b[0m\u001b[1;33m\u001b[0m\u001b[0m\n\u001b[0;32m      7\u001b[0m \u001b[0mprint\u001b[0m\u001b[1;33m(\u001b[0m\u001b[1;34m'total is'\u001b[0m\u001b[1;33m,\u001b[0m \u001b[0mtotal\u001b[0m\u001b[1;33m)\u001b[0m\u001b[1;33m\u001b[0m\u001b[1;33m\u001b[0m\u001b[0m\n",
      "\u001b[1;31mAssertionError\u001b[0m: Data should only contain positive values"
     ]
    }
   ],
   "source": [
    "# Calculate sum of positive numbers\n",
    "numbers = [1.5, 2.3, 0.7, -0.1, 4.4]\n",
    "total = 0\n",
    "for num in numbers:\n",
    "    assert num > 0, 'Data should only contain positive values'\n",
    "    total = total + num\n",
    "print('total is', total)"
   ]
  },
  {
   "cell_type": "markdown",
   "id": "14a2fc9b",
   "metadata": {},
   "source": [
    "### How can we catch empty datasets in our analysis?"
   ]
  },
  {
   "cell_type": "code",
   "execution_count": 33,
   "id": "2162d4e8",
   "metadata": {},
   "outputs": [
    {
     "name": "stdout",
     "output_type": "stream",
     "text": [
      "[1 1]\n",
      "[]\n",
      "2\n",
      "0\n"
     ]
    },
    {
     "ename": "AssertionError",
     "evalue": "Expected non-empty array",
     "output_type": "error",
     "traceback": [
      "\u001b[1;31m---------------------------------------------------------------------------\u001b[0m",
      "\u001b[1;31mAssertionError\u001b[0m                            Traceback (most recent call last)",
      "\u001b[1;32m~\\AppData\\Local\\Temp/ipykernel_22352/3550847741.py\u001b[0m in \u001b[0;36m<module>\u001b[1;34m\u001b[0m\n\u001b[0;32m     11\u001b[0m \u001b[1;33m\u001b[0m\u001b[0m\n\u001b[0;32m     12\u001b[0m \u001b[1;32massert\u001b[0m \u001b[0marray\u001b[0m\u001b[1;33m.\u001b[0m\u001b[0mshape\u001b[0m\u001b[1;33m[\u001b[0m\u001b[1;36m0\u001b[0m\u001b[1;33m]\u001b[0m \u001b[1;33m>\u001b[0m \u001b[1;36m0\u001b[0m\u001b[1;33m,\u001b[0m \u001b[1;34m'Expected non-empty array'\u001b[0m\u001b[1;33m\u001b[0m\u001b[1;33m\u001b[0m\u001b[0m\n\u001b[1;32m---> 13\u001b[1;33m \u001b[1;32massert\u001b[0m \u001b[0mempty_array\u001b[0m\u001b[1;33m.\u001b[0m\u001b[0mshape\u001b[0m\u001b[1;33m[\u001b[0m\u001b[1;36m0\u001b[0m\u001b[1;33m]\u001b[0m \u001b[1;33m>\u001b[0m \u001b[1;36m0\u001b[0m\u001b[1;33m,\u001b[0m \u001b[1;34m'Expected non-empty array'\u001b[0m\u001b[1;33m\u001b[0m\u001b[1;33m\u001b[0m\u001b[0m\n\u001b[0m",
      "\u001b[1;31mAssertionError\u001b[0m: Expected non-empty array"
     ]
    }
   ],
   "source": [
    "import numpy\n",
    "\n",
    "array = numpy.array([1, 1])\n",
    "empty_array = numpy.array([])\n",
    "\n",
    "print(array)\n",
    "print(empty_array)\n",
    "\n",
    "print(array.shape[0])\n",
    "print(empty_array.shape[0])\n",
    "\n",
    "assert array.shape[0] > 0, 'Expected non-empty array'\n",
    "assert empty_array.shape[0] > 0, 'Expected non-empty array'"
   ]
  },
  {
   "cell_type": "markdown",
   "id": "023bb736",
   "metadata": {},
   "source": [
    "### Go to inflammation_analysis.ipynb for defensive programming\n",
    "\n",
    "Write a function `detect_problems_defensive()` that adds pre- and post-conditions"
   ]
  }
 ],
 "metadata": {
  "kernelspec": {
   "display_name": "Python 3 (ipykernel)",
   "language": "python",
   "name": "python3"
  },
  "language_info": {
   "codemirror_mode": {
    "name": "ipython",
    "version": 3
   },
   "file_extension": ".py",
   "mimetype": "text/x-python",
   "name": "python",
   "nbconvert_exporter": "python",
   "pygments_lexer": "ipython3",
   "version": "3.8.5"
  }
 },
 "nbformat": 4,
 "nbformat_minor": 5
}
